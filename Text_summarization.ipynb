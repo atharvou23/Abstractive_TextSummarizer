{
  "nbformat": 4,
  "nbformat_minor": 0,
  "metadata": {
    "accelerator": "GPU",
    "colab": {
      "name": "Copy of Copy of Copy of Text_summarization.ipynb",
      "provenance": [],
      "collapsed_sections": []
    },
    "kernelspec": {
      "display_name": "Python 3",
      "language": "python",
      "name": "python3"
    },
    "language_info": {
      "codemirror_mode": {
        "name": "ipython",
        "version": 3
      },
      "file_extension": ".py",
      "mimetype": "text/x-python",
      "name": "python",
      "nbconvert_exporter": "python",
      "pygments_lexer": "ipython3",
      "version": "3.6.6"
    }
  },
  "cells": [
    {
      "cell_type": "markdown",
      "metadata": {
        "id": "IEq-oYpmSM5r"
      },
      "source": [
        "# Text Summerization - Encoder Decoder with Attention Mechanism"
      ]
    },
    {
      "cell_type": "markdown",
      "metadata": {
        "id": "4iFfGxm4XgZl"
      },
      "source": [
        "### Importing Basic libraries"
      ]
    },
    {
      "cell_type": "code",
      "metadata": {
        "colab": {
          "base_uri": "https://localhost:8080/"
        },
        "id": "X8XfN5xQA6PZ",
        "outputId": "f8195bcb-f99d-40a9-c2ce-514f7cbef797"
      },
      "source": [
        "!wget 'http://nlp.stanford.edu/data/glove.42B.300d.zip'\n",
        "!unzip '/content/glove.42B.300d.zip'"
      ],
      "execution_count": null,
      "outputs": [
        {
          "output_type": "stream",
          "text": [
            "--2021-08-17 15:39:21--  http://nlp.stanford.edu/data/glove.42B.300d.zip\n",
            "Resolving nlp.stanford.edu (nlp.stanford.edu)... 171.64.67.140\n",
            "Connecting to nlp.stanford.edu (nlp.stanford.edu)|171.64.67.140|:80... connected.\n",
            "HTTP request sent, awaiting response... 302 Found\n",
            "Location: https://nlp.stanford.edu/data/glove.42B.300d.zip [following]\n",
            "--2021-08-17 15:39:21--  https://nlp.stanford.edu/data/glove.42B.300d.zip\n",
            "Connecting to nlp.stanford.edu (nlp.stanford.edu)|171.64.67.140|:443... connected.\n",
            "HTTP request sent, awaiting response... 301 Moved Permanently\n",
            "Location: http://downloads.cs.stanford.edu/nlp/data/glove.42B.300d.zip [following]\n",
            "--2021-08-17 15:39:21--  http://downloads.cs.stanford.edu/nlp/data/glove.42B.300d.zip\n",
            "Resolving downloads.cs.stanford.edu (downloads.cs.stanford.edu)... 171.64.64.22\n",
            "Connecting to downloads.cs.stanford.edu (downloads.cs.stanford.edu)|171.64.64.22|:80... connected.\n",
            "HTTP request sent, awaiting response... 200 OK\n",
            "Length: 1877800501 (1.7G) [application/zip]\n",
            "Saving to: ‘glove.42B.300d.zip’\n",
            "\n",
            "glove.42B.300d.zip  100%[===================>]   1.75G  5.15MB/s    in 5m 53s  \n",
            "\n",
            "2021-08-17 15:45:14 (5.07 MB/s) - ‘glove.42B.300d.zip’ saved [1877800501/1877800501]\n",
            "\n",
            "Archive:  /content/glove.42B.300d.zip\n",
            "  inflating: glove.42B.300d.txt      \n"
          ],
          "name": "stdout"
        }
      ]
    },
    {
      "cell_type": "code",
      "metadata": {
        "colab": {
          "base_uri": "https://localhost:8080/"
        },
        "id": "OvLzgRrb2QAa",
        "outputId": "8241999f-ce51-4468-aa26-b7039309cd6b"
      },
      "source": [
        "pip install contractions"
      ],
      "execution_count": null,
      "outputs": [
        {
          "output_type": "stream",
          "text": [
            "Collecting contractions\n",
            "  Downloading contractions-0.0.52-py2.py3-none-any.whl (7.2 kB)\n",
            "Collecting textsearch>=0.0.21\n",
            "  Downloading textsearch-0.0.21-py2.py3-none-any.whl (7.5 kB)\n",
            "Collecting pyahocorasick\n",
            "  Downloading pyahocorasick-1.4.2.tar.gz (321 kB)\n",
            "\u001b[K     |████████████████████████████████| 321 kB 7.3 MB/s \n",
            "\u001b[?25hCollecting anyascii\n",
            "  Downloading anyascii-0.2.0-py3-none-any.whl (283 kB)\n",
            "\u001b[K     |████████████████████████████████| 283 kB 57.9 MB/s \n",
            "\u001b[?25hBuilding wheels for collected packages: pyahocorasick\n",
            "  Building wheel for pyahocorasick (setup.py) ... \u001b[?25l\u001b[?25hdone\n",
            "  Created wheel for pyahocorasick: filename=pyahocorasick-1.4.2-cp37-cp37m-linux_x86_64.whl size=85455 sha256=a96de15d9ecca976f7f68e2f09923d137650b75e2d5cbf2f77be9fa0c74ac6e5\n",
            "  Stored in directory: /root/.cache/pip/wheels/25/19/a6/8f363d9939162782bb8439d886469756271abc01f76fbd790f\n",
            "Successfully built pyahocorasick\n",
            "Installing collected packages: pyahocorasick, anyascii, textsearch, contractions\n",
            "Successfully installed anyascii-0.2.0 contractions-0.0.52 pyahocorasick-1.4.2 textsearch-0.0.21\n"
          ],
          "name": "stdout"
        }
      ]
    },
    {
      "cell_type": "code",
      "metadata": {
        "id": "_uEL8_WrZ7-j",
        "colab": {
          "base_uri": "https://localhost:8080/"
        },
        "outputId": "b2730edf-7bbc-4cda-bbd3-c21913b67a5c"
      },
      "source": [
        "from google.colab import drive\n",
        "drive.mount('/content/drive')"
      ],
      "execution_count": null,
      "outputs": [
        {
          "output_type": "stream",
          "text": [
            "Go to this URL in a browser: https://accounts.google.com/o/oauth2/auth?client_id=947318989803-6bn6qk8qdgf4n4g3pfee6491hc0brc4i.apps.googleusercontent.com&redirect_uri=urn%3aietf%3awg%3aoauth%3a2.0%3aoob&scope=email%20https%3a%2f%2fwww.googleapis.com%2fauth%2fdocs.test%20https%3a%2f%2fwww.googleapis.com%2fauth%2fdrive%20https%3a%2f%2fwww.googleapis.com%2fauth%2fdrive.photos.readonly%20https%3a%2f%2fwww.googleapis.com%2fauth%2fpeopleapi.readonly%20https%3a%2f%2fwww.googleapis.com%2fauth%2fdrive.activity.readonly%20https%3a%2f%2fwww.googleapis.com%2fauth%2fexperimentsandconfigs%20https%3a%2f%2fwww.googleapis.com%2fauth%2fphotos.native&response_type=code\n",
            "\n",
            "Enter your authorization code:\n",
            "4/1AX4XfWiyPJQyqU0BHS58Pi_y4LqymjVA2RJXFlZLKhWF_afDtQkFNtRDGbU\n",
            "Mounted at /content/drive\n"
          ],
          "name": "stdout"
        }
      ]
    },
    {
      "cell_type": "code",
      "metadata": {
        "id": "lisXNzYrYOoR",
        "colab": {
          "base_uri": "https://localhost:8080/"
        },
        "outputId": "4ff65cf3-36bb-49c2-a6c3-08070c9233a0"
      },
      "source": [
        "import re\n",
        "import os\n",
        "import numpy as np\n",
        "import pandas as pd\n",
        "import matplotlib.pyplot as plt\n",
        "\n",
        "import nltk\n",
        "nltk.download('stopwords')\n",
        "from nltk.corpus import stopwords\n",
        "import contractions\n",
        "from keras.preprocessing.text import Tokenizer\n",
        "from keras.preprocessing.sequence import pad_sequences\n",
        "\n",
        "import tensorflow as tf\n",
        "from tensorflow.keras.layers import Input, LSTM, Embedding, Dense, Concatenate, TimeDistributed, Bidirectional\n",
        "from tensorflow.keras.models import Model\n",
        "from tensorflow.keras.callbacks import EarlyStopping\n",
        "from keras import backend as K \n",
        "from tensorflow.python.keras.layers import Layer\n"
      ],
      "execution_count": null,
      "outputs": [
        {
          "output_type": "stream",
          "text": [
            "[nltk_data] Downloading package stopwords to /root/nltk_data...\n",
            "[nltk_data]   Package stopwords is already up-to-date!\n"
          ],
          "name": "stdout"
        }
      ]
    },
    {
      "cell_type": "code",
      "metadata": {
        "id": "Tj3lfncbgBoK"
      },
      "source": [
        "!cp /content/drive/MyDrive/news_summary_more.csv /content"
      ],
      "execution_count": null,
      "outputs": []
    },
    {
      "cell_type": "markdown",
      "metadata": {
        "id": "GSr24NviXqio"
      },
      "source": [
        "### Importing Data"
      ]
    },
    {
      "cell_type": "code",
      "metadata": {
        "id": "z3NFHA0CYOoZ",
        "colab": {
          "base_uri": "https://localhost:8080/",
          "height": 204
        },
        "outputId": "62ae165e-a714-4be4-cedc-a23e8037256f"
      },
      "source": [
        "data_path = '/content/news_summary_more.csv'\n",
        "data = pd.read_csv(data_path)\n",
        "data.head()"
      ],
      "execution_count": null,
      "outputs": [
        {
          "output_type": "execute_result",
          "data": {
            "text/html": [
              "<div>\n",
              "<style scoped>\n",
              "    .dataframe tbody tr th:only-of-type {\n",
              "        vertical-align: middle;\n",
              "    }\n",
              "\n",
              "    .dataframe tbody tr th {\n",
              "        vertical-align: top;\n",
              "    }\n",
              "\n",
              "    .dataframe thead th {\n",
              "        text-align: right;\n",
              "    }\n",
              "</style>\n",
              "<table border=\"1\" class=\"dataframe\">\n",
              "  <thead>\n",
              "    <tr style=\"text-align: right;\">\n",
              "      <th></th>\n",
              "      <th>headlines</th>\n",
              "      <th>text</th>\n",
              "    </tr>\n",
              "  </thead>\n",
              "  <tbody>\n",
              "    <tr>\n",
              "      <th>0</th>\n",
              "      <td>upGrad learner switches to career in ML &amp; Al w...</td>\n",
              "      <td>Saurav Kant, an alumnus of upGrad and IIIT-B's...</td>\n",
              "    </tr>\n",
              "    <tr>\n",
              "      <th>1</th>\n",
              "      <td>Delhi techie wins free food from Swiggy for on...</td>\n",
              "      <td>Kunal Shah's credit card bill payment platform...</td>\n",
              "    </tr>\n",
              "    <tr>\n",
              "      <th>2</th>\n",
              "      <td>New Zealand end Rohit Sharma-led India's 12-ma...</td>\n",
              "      <td>New Zealand defeated India by 8 wickets in the...</td>\n",
              "    </tr>\n",
              "    <tr>\n",
              "      <th>3</th>\n",
              "      <td>Aegon life iTerm insurance plan helps customer...</td>\n",
              "      <td>With Aegon Life iTerm Insurance plan, customer...</td>\n",
              "    </tr>\n",
              "    <tr>\n",
              "      <th>4</th>\n",
              "      <td>Have known Hirani for yrs, what if MeToo claim...</td>\n",
              "      <td>Speaking about the sexual harassment allegatio...</td>\n",
              "    </tr>\n",
              "  </tbody>\n",
              "</table>\n",
              "</div>"
            ],
            "text/plain": [
              "                                           headlines                                               text\n",
              "0  upGrad learner switches to career in ML & Al w...  Saurav Kant, an alumnus of upGrad and IIIT-B's...\n",
              "1  Delhi techie wins free food from Swiggy for on...  Kunal Shah's credit card bill payment platform...\n",
              "2  New Zealand end Rohit Sharma-led India's 12-ma...  New Zealand defeated India by 8 wickets in the...\n",
              "3  Aegon life iTerm insurance plan helps customer...  With Aegon Life iTerm Insurance plan, customer...\n",
              "4  Have known Hirani for yrs, what if MeToo claim...  Speaking about the sexual harassment allegatio..."
            ]
          },
          "metadata": {
            "tags": []
          },
          "execution_count": 3
        }
      ]
    },
    {
      "cell_type": "code",
      "metadata": {
        "id": "Mis8W95SAZ5_"
      },
      "source": [
        "data.drop_duplicates(subset=['headlines'],inplace=True)\n",
        "data.reset_index(inplace=True, drop=True)"
      ],
      "execution_count": null,
      "outputs": []
    },
    {
      "cell_type": "code",
      "metadata": {
        "id": "BV8b6w9YYOoa"
      },
      "source": [
        "stop_words = stopwords.words('english')\n",
        "\n",
        "def preprocess(text):\n",
        "    text = text.lower()\n",
        "    text = ' '.join([contractions.fix(word) for word in text.split(\" \")])    \n",
        "    \n",
        "    tokens = [w for w in text.split() if not w in stop_words]\n",
        "    text = \" \".join(tokens)\n",
        "    text = text.replace(\"'s\",'')\n",
        "    text = text.replace(\".\",'')\n",
        "    text = re.sub(r'\\(.*\\)','',text)\n",
        "    text = re.sub(r'[^a-zA-Z0-9. ]',' ',text)\n",
        "    text = re.sub(r'\\.','. ',text)\n",
        "    text = re.sub(r'\\s+', ' ', text)\n",
        "    return text\n"
      ],
      "execution_count": null,
      "outputs": []
    },
    {
      "cell_type": "code",
      "metadata": {
        "colab": {
          "base_uri": "https://localhost:8080/"
        },
        "id": "ewSx5cepYOob",
        "outputId": "55b255a6-367f-4443-8184-650066137e32"
      },
      "source": [
        "data['headlines'] = data['headlines'].apply(preprocess)\n",
        "data['text'] = data['text'].apply(preprocess)\n",
        "data['headlines'] = data['headlines'].apply(lambda x : '_START_ '+ x + ' _END_')\n",
        "\n",
        "for i in range(2):\n",
        "    print('Summary:', data['headlines'][i],'Text:', data['text'][i], sep='\\n')\n",
        "    print()"
      ],
      "execution_count": null,
      "outputs": [
        {
          "output_type": "stream",
          "text": [
            "Summary:\n",
            "_START_ upgrad learner switches career ml al 90 salary hike _END_\n",
            "Text:\n",
            "saurav kant alumnus upgrad iiit b pg program machine learning artificial intelligence sr systems engineer infosys almost 5 years work experience program upgrad 360 degree career support helped transition data scientist tech mahindra 90 salary hike upgrad online power learning powered 3 lakh careers\n",
            "\n",
            "Summary:\n",
            "_START_ delhi techie wins free food swiggy one year cred _END_\n",
            "Text:\n",
            "kunal shah credit card bill payment platform cred gave users chance win free food swiggy one year pranav kaushik delhi techie bagged reward spending 2000 cred coins users get one cred coin per rupee bill paid used avail rewards brands like ixigo bookmyshow ubereats cultfit more\n",
            "\n"
          ],
          "name": "stdout"
        }
      ]
    },
    {
      "cell_type": "code",
      "metadata": {
        "id": "Tb68xRjGNP8z"
      },
      "source": [
        "headlines_length = [len(x.split()) for x in data.headlines]\n",
        "text_length = [len(x.split()) for x in data.text]"
      ],
      "execution_count": null,
      "outputs": []
    },
    {
      "cell_type": "code",
      "metadata": {
        "colab": {
          "base_uri": "https://localhost:8080/",
          "height": 336
        },
        "id": "4exx0vZpoZDp",
        "outputId": "4fcef4de-8331-4731-b6af-be6b525e8351"
      },
      "source": [
        "fig, (ax1, ax2) = plt.subplots(1,2, figsize = (10,5))\n",
        "ax1.hist(headlines_length, bins = 20)\n",
        "ax2.hist(text_length, bins = 20)\n",
        "\n",
        "ax1.title.set_text(\"Words in Headlines\")\n",
        "ax2.title.set_text(\"Words in Text\")\n",
        "plt.show()"
      ],
      "execution_count": null,
      "outputs": [
        {
          "output_type": "display_data",
          "data": {
            "image/png": "[encoded data removed]",
            "text/plain": [
              "<Figure size 720x360 with 2 Axes>"
            ]
          },
          "metadata": {
            "tags": [],
            "needs_background": "light"
          }
        }
      ]
    },
    {
      "cell_type": "markdown",
      "metadata": {
        "id": "5J6b2-BXoasR"
      },
      "source": [
        "### Embedding Matrix from Glove\n"
      ]
    },
    {
      "cell_type": "code",
      "metadata": {
        "id": "7vLovzKr0m5S"
      },
      "source": [
        "glove_size = 300\n",
        "f = open('/content/glove.42B.300d.txt')"
      ],
      "execution_count": null,
      "outputs": []
    },
    {
      "cell_type": "code",
      "metadata": {
        "id": "KulasZGc0nDp"
      },
      "source": [
        "embeddings_index = dict()\n",
        "for line in f:\n",
        "\tvalues = line.split()\n",
        "\tembeddings_index[values[0]] = np.asarray(values[1:], dtype='float32')\n",
        "f.close()"
      ],
      "execution_count": null,
      "outputs": []
    },
    {
      "cell_type": "code",
      "metadata": {
        "id": "7JA07ZzL0nhw",
        "colab": {
          "base_uri": "https://localhost:8080/"
        },
        "outputId": "5535e162-8446-4832-a2e9-82c5eb2dd588"
      },
      "source": [
        "words_source_train = []\n",
        "for i in data['text'] :\n",
        "  words_source_train.extend(i.split(' '))\n",
        "\n",
        "print(\"all the words in the corpus\", len(words_source_train))\n",
        "words_source_train = set(words_source_train)\n",
        "print(\"the unique words in the corpus\", len(words_source_train))\n",
        "inter_words = set(embeddings_index.keys()).intersection(words_source_train)\n",
        "print(\"The number of words that are present in both glove vectors and our corpus are {} which \\\n",
        "is nearly {}% \".format(len(inter_words), np.round((float(len(inter_words))/len(words_source_train))\n",
        "*100)))\n",
        "\n",
        "words_corpus_source_train = {}\n",
        "words_glove = set(embeddings_index.keys())\n",
        "for i in words_source_train:\n",
        "  if i in words_glove:\n",
        "    words_corpus_source_train[i] = embeddings_index[i]\n",
        "print(\"word 2 vec length\", len(words_corpus_source_train))"
      ],
      "execution_count": null,
      "outputs": [
        {
          "output_type": "stream",
          "text": [
            "all the words in the corpus 3665888\n",
            "the unique words in the corpus 90013\n",
            "The number of words that are present in both glove vectors and our corpus are 70834 which is nearly 79.0% \n",
            "word 2 vec length 70834\n"
          ],
          "name": "stdout"
        }
      ]
    },
    {
      "cell_type": "code",
      "metadata": {
        "id": "hT_Ak7qtkv2_"
      },
      "source": [
        "def num(text):\n",
        "  words = [w for w in text.split() if not w in inter_words]\n",
        "  return len(words)\n",
        "\n",
        "data['unique_words'] = data['text'].apply(num)"
      ],
      "execution_count": null,
      "outputs": []
    },
    {
      "cell_type": "code",
      "metadata": {
        "id": "N4RZLvQ00zBN"
      },
      "source": [
        "data = data[data['unique_words'] < 4]\n",
        "data.reset_index(inplace=True, drop=True)"
      ],
      "execution_count": null,
      "outputs": []
    },
    {
      "cell_type": "code",
      "metadata": {
        "colab": {
          "base_uri": "https://localhost:8080/",
          "height": 419
        },
        "id": "uF08PoBm1N78",
        "outputId": "b54f44b1-d68b-428c-d37d-37f691f00573"
      },
      "source": [
        "data"
      ],
      "execution_count": null,
      "outputs": [
        {
          "output_type": "execute_result",
          "data": {
            "text/html": [
              "<div>\n",
              "<style scoped>\n",
              "    .dataframe tbody tr th:only-of-type {\n",
              "        vertical-align: middle;\n",
              "    }\n",
              "\n",
              "    .dataframe tbody tr th {\n",
              "        vertical-align: top;\n",
              "    }\n",
              "\n",
              "    .dataframe thead th {\n",
              "        text-align: right;\n",
              "    }\n",
              "</style>\n",
              "<table border=\"1\" class=\"dataframe\">\n",
              "  <thead>\n",
              "    <tr style=\"text-align: right;\">\n",
              "      <th></th>\n",
              "      <th>headlines</th>\n",
              "      <th>text</th>\n",
              "      <th>unique_words</th>\n",
              "    </tr>\n",
              "  </thead>\n",
              "  <tbody>\n",
              "    <tr>\n",
              "      <th>0</th>\n",
              "      <td>_START_ upgrad learner switches career ml al 9...</td>\n",
              "      <td>saurav kant alumnus upgrad iiit b pg program m...</td>\n",
              "      <td>0</td>\n",
              "    </tr>\n",
              "    <tr>\n",
              "      <th>1</th>\n",
              "      <td>_START_ delhi techie wins free food swiggy one...</td>\n",
              "      <td>kunal shah credit card bill payment platform c...</td>\n",
              "      <td>2</td>\n",
              "    </tr>\n",
              "    <tr>\n",
              "      <th>2</th>\n",
              "      <td>_START_ new zealand end rohit sharma led india...</td>\n",
              "      <td>new zealand defeated india 8 wickets fourth od...</td>\n",
              "      <td>0</td>\n",
              "    </tr>\n",
              "    <tr>\n",
              "      <th>3</th>\n",
              "      <td>_START_ aegon life iterm insurance plan helps ...</td>\n",
              "      <td>aegon life iterm insurance plan customers enjo...</td>\n",
              "      <td>0</td>\n",
              "    </tr>\n",
              "    <tr>\n",
              "      <th>4</th>\n",
              "      <td>_START_ known hirani yrs metoo claims true son...</td>\n",
              "      <td>speaking sexual harassment allegations rajkuma...</td>\n",
              "      <td>1</td>\n",
              "    </tr>\n",
              "    <tr>\n",
              "      <th>...</th>\n",
              "      <td>...</td>\n",
              "      <td>...</td>\n",
              "      <td>...</td>\n",
              "    </tr>\n",
              "    <tr>\n",
              "      <th>97351</th>\n",
              "      <td>_START_ crpf jawan axed death maoists chhattis...</td>\n",
              "      <td>crpf jawan tuesday axed death sharp edged weap...</td>\n",
              "      <td>0</td>\n",
              "    </tr>\n",
              "    <tr>\n",
              "      <th>97352</th>\n",
              "      <td>_START_ first song sonakshi sinha noor titled ...</td>\n",
              "      <td>uff yeh first song sonakshi sinha starrer upc...</td>\n",
              "      <td>2</td>\n",
              "    </tr>\n",
              "    <tr>\n",
              "      <th>97353</th>\n",
              "      <td>_START_  the matrix film get reboot reports _END_</td>\n",
              "      <td>according reports new version 1999 science fic...</td>\n",
              "      <td>0</td>\n",
              "    </tr>\n",
              "    <tr>\n",
              "      <th>97354</th>\n",
              "      <td>_START_ snoop dogg aims gun clown dressed trum...</td>\n",
              "      <td>new music video shows rapper snoop dogg aiming...</td>\n",
              "      <td>0</td>\n",
              "    </tr>\n",
              "    <tr>\n",
              "      <th>97355</th>\n",
              "      <td>_START_ madhesi morcha withdraws support nepal...</td>\n",
              "      <td>madhesi morcha alliance seven political partie...</td>\n",
              "      <td>0</td>\n",
              "    </tr>\n",
              "  </tbody>\n",
              "</table>\n",
              "<p>97356 rows × 3 columns</p>\n",
              "</div>"
            ],
            "text/plain": [
              "                                               headlines  ... unique_words\n",
              "0      _START_ upgrad learner switches career ml al 9...  ...            0\n",
              "1      _START_ delhi techie wins free food swiggy one...  ...            2\n",
              "2      _START_ new zealand end rohit sharma led india...  ...            0\n",
              "3      _START_ aegon life iterm insurance plan helps ...  ...            0\n",
              "4      _START_ known hirani yrs metoo claims true son...  ...            1\n",
              "...                                                  ...  ...          ...\n",
              "97351  _START_ crpf jawan axed death maoists chhattis...  ...            0\n",
              "97352  _START_ first song sonakshi sinha noor titled ...  ...            2\n",
              "97353  _START_  the matrix film get reboot reports _END_  ...            0\n",
              "97354  _START_ snoop dogg aims gun clown dressed trum...  ...            0\n",
              "97355  _START_ madhesi morcha withdraws support nepal...  ...            0\n",
              "\n",
              "[97356 rows x 3 columns]"
            ]
          },
          "metadata": {
            "tags": []
          },
          "execution_count": 14
        }
      ]
    },
    {
      "cell_type": "code",
      "metadata": {
        "id": "5JaGAWYn7kqR"
      },
      "source": [
        "from sklearn.model_selection import train_test_split\n",
        "X_train, X_val, y_train, y_val = train_test_split(data['text'], data['headlines'], test_size = 0.2, random_state = 20)\n",
        "X_test, X_val, y_test, y_val = train_test_split(X_val, y_val, test_size = 0.5, random_state = 20)"
      ],
      "execution_count": null,
      "outputs": []
    },
    {
      "cell_type": "code",
      "metadata": {
        "id": "zhoRlF5L_qwa"
      },
      "source": [
        "max_length_x = max(text_length)\n",
        "max_length_y = max(headlines_length)"
      ],
      "execution_count": null,
      "outputs": []
    },
    {
      "cell_type": "code",
      "metadata": {
        "id": "QXQdLrLK0l5B"
      },
      "source": [
        "x_t = Tokenizer()\n",
        "x_t.fit_on_texts(data['text'] + data['headlines'])\n",
        "x_vocab_size = len(x_t.word_index) + 1\n",
        "\n",
        "encoded_xtrain = x_t.texts_to_sequences(X_train)\n",
        "encoded_xval = x_t.texts_to_sequences(X_val)\n",
        "encoded_xtest = x_t.texts_to_sequences(X_test)\n",
        "\n",
        "padded_xtrain = pad_sequences(encoded_xtrain, maxlen=max_length_x, padding='post')\n",
        "padded_xval = pad_sequences(encoded_xval, maxlen=max_length_x, padding='post')\n",
        "padded_xtest = pad_sequences(encoded_xtest, maxlen=max_length_x, padding='post')"
      ],
      "execution_count": null,
      "outputs": []
    },
    {
      "cell_type": "code",
      "metadata": {
        "id": "n7SVsptTNPtP"
      },
      "source": [
        "y_t = Tokenizer()\n",
        "y_t.fit_on_texts(data['headlines'])\n",
        "y_vocab_size = len(y_t.word_index) + 1\n",
        "\n",
        "encoded_ytrain = y_t.texts_to_sequences(y_train)\n",
        "encoded_yval = y_t.texts_to_sequences(y_val)\n",
        "encoded_ytest = y_t.texts_to_sequences(y_test)\n",
        "\n",
        "padded_ytrain = pad_sequences(encoded_ytrain, maxlen=max_length_y, padding='post')\n",
        "padded_yval = pad_sequences(encoded_yval, maxlen=max_length_y, padding='post')\n",
        "padded_ytest = pad_sequences(encoded_ytest, maxlen=max_length_y, padding='post')"
      ],
      "execution_count": null,
      "outputs": []
    },
    {
      "cell_type": "code",
      "metadata": {
        "id": "rM-974HV0nKo",
        "colab": {
          "base_uri": "https://localhost:8080/"
        },
        "outputId": "6aa27890-eaf7-4e0f-e594-8057efa18be6"
      },
      "source": [
        "print('Loaded %s word vectors.' % len(embeddings_index))\n",
        "\n",
        "embedding_matrix = np.zeros((x_vocab_size, glove_size))\n",
        "for word, i in x_t.word_index.items():\n",
        "\tembedding_vector = embeddings_index.get(word)\n",
        "\tif embedding_vector is not None:\n",
        "\t\tembedding_matrix[i] = embedding_vector"
      ],
      "execution_count": null,
      "outputs": [
        {
          "output_type": "stream",
          "text": [
            "Loaded 1917494 word vectors.\n"
          ],
          "name": "stdout"
        }
      ]
    },
    {
      "cell_type": "markdown",
      "metadata": {
        "id": "99aPNL7dqnfh"
      },
      "source": [
        "### Building Model"
      ]
    },
    {
      "cell_type": "code",
      "metadata": {
        "id": "GWuQ1AG8OdVL"
      },
      "source": [
        "class AttentionLayer(Layer):\n",
        "\n",
        "    def __init__(self, **kwargs):\n",
        "        super(AttentionLayer, self).__init__(**kwargs)\n",
        "\n",
        "    def build(self, input_shape):\n",
        "\n",
        "        self.W_a = self.add_weight(name='W_a',\n",
        "                                   shape=tf.TensorShape((input_shape[0][2], input_shape[0][2])),\n",
        "                                   initializer='uniform',\n",
        "                                   trainable=True)\n",
        "        self.U_a = self.add_weight(name='U_a',\n",
        "                                   shape=tf.TensorShape((input_shape[1][2], input_shape[0][2])),\n",
        "                                   initializer='uniform',\n",
        "                                   trainable=True)\n",
        "        self.V_a = self.add_weight(name='V_a',\n",
        "                                   shape=tf.TensorShape((input_shape[0][2], 1)),\n",
        "                                   initializer='uniform',\n",
        "                                   trainable=True)\n",
        "\n",
        "        super(AttentionLayer, self).build(input_shape)\n",
        "\n",
        "    def call(self, inputs):\n",
        "        encoder_out_seq, decoder_out_seq = inputs\n",
        "\n",
        "        def energy_step(inputs, states):\n",
        "          \n",
        "            en_seq_len, en_hidden = encoder_out_seq.shape[1], encoder_out_seq.shape[2]\n",
        "            de_hidden = inputs.shape[-1]\n",
        "\n",
        "            reshaped_enc_outputs = K.reshape(encoder_out_seq, (-1, en_hidden))\n",
        "            W_a_dot_s = K.reshape(K.dot(reshaped_enc_outputs, self.W_a), (-1, en_seq_len, en_hidden))\n",
        "            U_a_dot_h = K.expand_dims(K.dot(inputs, self.U_a), 1)  \n",
        "            \n",
        "            reshaped_Ws_plus_Uh = K.tanh(K.reshape(W_a_dot_s + U_a_dot_h, (-1, en_hidden)))\n",
        "            e_i = K.reshape(K.dot(reshaped_Ws_plus_Uh, self.V_a), (-1, en_seq_len))\n",
        "            e_i = K.softmax(e_i)\n",
        "\n",
        "            return e_i, [e_i]\n",
        "\n",
        "        def context_step(inputs, states):\n",
        "            c_i = K.sum(encoder_out_seq * K.expand_dims(inputs, -1), axis=1)\n",
        "            return c_i, [c_i]\n",
        "\n",
        "        def create_inital_state(inputs, hidden_size):\n",
        "            \n",
        "            fake_state = K.zeros_like(inputs)  \n",
        "            fake_state = K.sum(fake_state, axis=[1, 2])  \n",
        "            fake_state = K.expand_dims(fake_state)  \n",
        "            fake_state = K.tile(fake_state, [1, hidden_size])  \n",
        "            return fake_state\n",
        "\n",
        "        fake_state_c = create_inital_state(encoder_out_seq, encoder_out_seq.shape[-1])\n",
        "        fake_state_e = create_inital_state(encoder_out_seq, encoder_out_seq.shape[1])  \n",
        "\n",
        "        last_out, e_outputs, _ = K.rnn(\n",
        "            energy_step, decoder_out_seq, [fake_state_e],\n",
        "        )\n",
        "\n",
        "        last_out, c_outputs, _ = K.rnn(\n",
        "            context_step, e_outputs, [fake_state_c],\n",
        "        )\n",
        "        return c_outputs, e_outputs\n",
        "\n",
        "    def compute_output_shape(self, input_shape):\n",
        "        return [\n",
        "            tf.TensorShape((input_shape[1][0], input_shape[1][1], input_shape[1][2])),\n",
        "            tf.TensorShape((input_shape[1][0], input_shape[1][1], input_shape[0][1]))\n",
        "        ]\n"
      ],
      "execution_count": null,
      "outputs": []
    },
    {
      "cell_type": "code",
      "metadata": {
        "id": "wTukjl0hpPgo",
        "colab": {
          "base_uri": "https://localhost:8080/"
        },
        "outputId": "6035a9eb-baac-43ff-a123-74e1ae1f02b7"
      },
      "source": [
        "latent_dim=500\n",
        "\n",
        "K.clear_session() \n",
        "\n",
        "encoder_inputs = Input(shape=(max_length_x,)) \n",
        "enc_emb = Embedding(x_vocab_size, glove_size, weights=[embedding_matrix],input_length=max_length_x, trainable=False)(encoder_inputs) \n",
        "\n",
        "#LSTM \n",
        "encoder_lstm1 = LSTM(latent_dim,return_sequences=True,return_state=True) \n",
        "encoder_output1, state_h1, state_c1 = encoder_lstm1(enc_emb) \n",
        "encoder_lstm2 = LSTM(latent_dim,return_sequences=True,return_state=True) \n",
        "encoder_output2, state_h2, state_c2 = encoder_lstm2(encoder_output1) \n",
        "encoder_lstm3 = LSTM(latent_dim, return_state=True, return_sequences=True) \n",
        "encoder_outputs, state_h, state_c= encoder_lstm3(encoder_output2) \n",
        "\n",
        "# Decoder. \n",
        "decoder_inputs = Input(shape=(None,)) \n",
        "dec_emb_layer = Embedding(x_vocab_size, glove_size, weights=[embedding_matrix],input_length=max_length_x, trainable=False) \n",
        "dec_emb = dec_emb_layer(decoder_inputs) \n",
        "\n",
        "#LSTM using encoder_states as initial state\n",
        "decoder_lstm = LSTM(latent_dim, return_sequences=True, return_state=True) \n",
        "decoder_outputs,decoder_fwd_state, decoder_back_state = decoder_lstm(dec_emb,initial_state=[state_h, state_c]) \n",
        "\n",
        "#Attention Layer\n",
        "attn_layer = AttentionLayer(name='attention_layer') \n",
        "attn_out, attn_states = attn_layer([encoder_outputs, decoder_outputs]) \n",
        "\n",
        "decoder_concat_input = Concatenate(axis=-1, name='concat_layer')([decoder_outputs, attn_out])\n",
        "decoder_dense = TimeDistributed(Dense(y_vocab_size, activation='softmax')) \n",
        "decoder_outputs = decoder_dense(decoder_concat_input) \n",
        "\n",
        "model = Model([encoder_inputs, decoder_inputs], decoder_outputs) \n",
        "print(model.summary())"
      ],
      "execution_count": null,
      "outputs": [
        {
          "output_type": "stream",
          "text": [
            "Model: \"model\"\n",
            "__________________________________________________________________________________________________\n",
            "Layer (type)                    Output Shape         Param #     Connected to                     \n",
            "==================================================================================================\n",
            "input_5 (InputLayer)            [(None, 57)]         0                                            \n",
            "__________________________________________________________________________________________________\n",
            "embedding (Embedding)           (None, 57, 300)      26975700    input_5[0][0]                    \n",
            "__________________________________________________________________________________________________\n",
            "input_6 (InputLayer)            [(None, None)]       0                                            \n",
            "__________________________________________________________________________________________________\n",
            "lstm (LSTM)                     [(None, 57, 500), (N 1602000     embedding[0][0]                  \n",
            "__________________________________________________________________________________________________\n",
            "embedding_1 (Embedding)         (None, None, 300)    26975700    input_6[0][0]                    \n",
            "__________________________________________________________________________________________________\n",
            "lstm_1 (LSTM)                   [(None, 57, 500), (N 2002000     lstm[0][0]                       \n",
            "__________________________________________________________________________________________________\n",
            "lstm_2 (LSTM)                   [(None, None, 500),  1602000     embedding_1[0][0]                \n",
            "                                                                 lstm_1[0][1]                     \n",
            "                                                                 lstm_1[0][2]                     \n",
            "__________________________________________________________________________________________________\n",
            "attention_layer (AttentionLayer ((None, None, 500),  500500      lstm_1[0][0]                     \n",
            "                                                                 lstm_2[0][0]                     \n",
            "__________________________________________________________________________________________________\n",
            "concat_layer (Concatenate)      (None, None, 1000)   0           lstm_2[0][0]                     \n",
            "                                                                 attention_layer[0][0]            \n",
            "__________________________________________________________________________________________________\n",
            "time_distributed (TimeDistribut (None, None, 34779)  34813779    concat_layer[0][0]               \n",
            "==================================================================================================\n",
            "Total params: 94,471,679\n",
            "Trainable params: 40,520,279\n",
            "Non-trainable params: 53,951,400\n",
            "__________________________________________________________________________________________________\n",
            "None\n"
          ],
          "name": "stdout"
        }
      ]
    },
    {
      "cell_type": "code",
      "metadata": {
        "id": "4fUJoaFAiwUb",
        "colab": {
          "base_uri": "https://localhost:8080/"
        },
        "outputId": "4bc22143-d3ed-4b87-e2e6-c44f3034a816"
      },
      "source": [
        "model.compile(optimizer='adam', loss='sparse_categorical_crossentropy')\n",
        "checkpoint_filepath = '/content/model.{epoch:02d}-{val_loss:.2f}.h5'\n",
        "model_checkpoint_callback = tf.keras.callbacks.ModelCheckpoint(filepath=checkpoint_filepath,save_weights_only=True,monitor='val_loss',mode='min',save_best_only=True, save_freq = \"epoch\")\n",
        "es = EarlyStopping(monitor='val_loss', mode='min', verbose=1, patience=5)\n",
        "history=model.fit([padded_xtrain,padded_ytrain[:,:-1]], padded_ytrain.reshape(padded_ytrain.shape[0],padded_ytrain.shape[1], 1)[:,1:] ,epochs=30,batch_size=512, validation_data=([padded_xval,padded_yval[:,:-1]], padded_yval.reshape(padded_yval.shape[0],padded_yval.shape[1], 1)[:,1:]), callbacks=[es, model_checkpoint_callback])"
      ],
      "execution_count": null,
      "outputs": [
        {
          "output_type": "stream",
          "text": [
            "Epoch 1/30\n",
            "153/153 [==============================] - 188s 1s/step - loss: 4.7862 - val_loss: 4.4794\n",
            "Epoch 2/30\n",
            "153/153 [==============================] - 184s 1s/step - loss: 4.1536 - val_loss: 3.9571\n",
            "Epoch 3/30\n",
            "153/153 [==============================] - 184s 1s/step - loss: 3.6652 - val_loss: 3.6310\n",
            "Epoch 4/30\n",
            "153/153 [==============================] - 185s 1s/step - loss: 3.2448 - val_loss: 3.4038\n",
            "Epoch 5/30\n",
            "153/153 [==============================] - 185s 1s/step - loss: 2.8660 - val_loss: 3.2693\n",
            "Epoch 6/30\n",
            "153/153 [==============================] - 185s 1s/step - loss: 2.5345 - val_loss: 3.1968\n",
            "Epoch 7/30\n",
            "153/153 [==============================] - 185s 1s/step - loss: 2.2526 - val_loss: 3.1502\n",
            "Epoch 8/30\n",
            "153/153 [==============================] - 184s 1s/step - loss: 2.0222 - val_loss: 3.1206\n",
            "Epoch 9/30\n",
            "153/153 [==============================] - 185s 1s/step - loss: 1.8260 - val_loss: 3.1093\n",
            "Epoch 10/30\n",
            "153/153 [==============================] - 184s 1s/step - loss: 1.6569 - val_loss: 3.1080\n",
            "Epoch 11/30\n",
            "153/153 [==============================] - 184s 1s/step - loss: 1.5068 - val_loss: 3.1154\n",
            "Epoch 12/30\n",
            "153/153 [==============================] - 184s 1s/step - loss: 1.3725 - val_loss: 3.1404\n",
            "Epoch 13/30\n",
            "153/153 [==============================] - 184s 1s/step - loss: 1.2508 - val_loss: 3.1486\n",
            "Epoch 14/30\n",
            "153/153 [==============================] - 184s 1s/step - loss: 1.1415 - val_loss: 3.1837\n",
            "Epoch 15/30\n",
            "153/153 [==============================] - 184s 1s/step - loss: 1.0390 - val_loss: 3.2093\n",
            "Epoch 00015: early stopping\n"
          ],
          "name": "stdout"
        }
      ]
    },
    {
      "cell_type": "code",
      "metadata": {
        "id": "IjfTbNZ06BIu"
      },
      "source": [
        "model1 = Model([encoder_inputs, decoder_inputs], decoder_outputs)\n",
        "model1.load_weights(\"model.h5\")\n",
        "model1.compile(optimizer='adam', loss='sparse_categorical_crossentropy')\n",
        "es = EarlyStopping(monitor='val_loss', mode='min', verbose=1, patience=5)\n",
        "history=model1.fit([padded_xtrain,padded_ytrain[:,:-1]], padded_ytrain.reshape(padded_ytrain.shape[0],padded_ytrain.shape[1], 1)[:,1:] ,epochs=30,batch_size=512, validation_data=([padded_xval,padded_yval[:,:-1]], padded_yval.reshape(padded_yval.shape[0],padded_yval.shape[1], 1)[:,1:]), callbacks=es)"
      ],
      "execution_count": null,
      "outputs": []
    },
    {
      "cell_type": "markdown",
      "metadata": {
        "id": "0CULXhQiGpvO"
      },
      "source": [
        ""
      ]
    },
    {
      "cell_type": "code",
      "metadata": {
        "id": "JQf1v5WhqLLg",
        "colab": {
          "base_uri": "https://localhost:8080/",
          "height": 265
        },
        "outputId": "f5bfa510-79c7-465e-e371-ea5b36198da9"
      },
      "source": [
        "from matplotlib import pyplot \n",
        "pyplot.plot(history.history['loss'], label='train') \n",
        "pyplot.plot(history.history['val_loss'], label='test') \n",
        "pyplot.legend() \n",
        "pyplot.show()"
      ],
      "execution_count": null,
      "outputs": [
        {
          "output_type": "display_data",
          "data": {
            "image/png": "[encoded data removed]",
            "text/plain": [
              "<Figure size 432x288 with 1 Axes>"
            ]
          },
          "metadata": {
            "tags": [],
            "needs_background": "light"
          }
        }
      ]
    },
    {
      "cell_type": "markdown",
      "metadata": {
        "id": "PZ0W3VZorHVK"
      },
      "source": [
        "### Inference"
      ]
    },
    {
      "cell_type": "code",
      "metadata": {
        "id": "UlSTzEbnskcd"
      },
      "source": [
        "reverse_target_word_index = y_t.index_word \n",
        "reverse_source_word_index = x_t.index_word \n",
        "target_word_index = y_t.word_index"
      ],
      "execution_count": null,
      "outputs": []
    },
    {
      "cell_type": "code",
      "metadata": {
        "id": "thX0Ep0Ssnd1"
      },
      "source": [
        "encoder_model = Model(inputs=encoder_inputs,outputs=[encoder_outputs, state_h, state_c])\n",
        "decoder_state_input_h = Input(shape=(latent_dim,))\n",
        "decoder_state_input_c = Input(shape=(latent_dim,))\n",
        "decoder_hidden_state_input = Input(shape=(max_length_x,latent_dim))\n",
        "\n",
        "dec_emb2= dec_emb_layer(decoder_inputs)\n",
        "decoder_outputs2, state_h2, state_c2 = decoder_lstm(dec_emb2, initial_state=[decoder_state_input_h, decoder_state_input_c])\n",
        "\n",
        "attn_out_inf, attn_states_inf = attn_layer([decoder_hidden_state_input, decoder_outputs2])\n",
        "decoder_inf_concat = Concatenate(axis=-1, name='concat')([decoder_outputs2, attn_out_inf])\n",
        "\n",
        "decoder_outputs2 = decoder_dense(decoder_inf_concat)\n",
        "\n",
        "decoder_model = Model(\n",
        "[decoder_inputs] + [decoder_hidden_state_input,decoder_state_input_h, decoder_state_input_c],\n",
        "[decoder_outputs2] + [state_h2, state_c2])"
      ],
      "execution_count": null,
      "outputs": []
    },
    {
      "cell_type": "code",
      "metadata": {
        "id": "wtU0wU8gsuz1"
      },
      "source": [
        "def decode_sequence(input_seq):\n",
        "    input_seq= input_seq.reshape(1,max_length_x)\n",
        "    e_out, e_h, e_c = encoder_model.predict(input_seq)\n",
        "    target_seq = np.zeros((1,1))\n",
        "    target_seq[0, 0] = target_word_index['start']\n",
        "\n",
        "    stop_condition = False\n",
        "    decoded_sentence = ''\n",
        "    while not stop_condition:\n",
        "        output_tokens, h, c = decoder_model.predict([target_seq] + [e_out, e_h, e_c])\n",
        "\n",
        "        sampled_token_index = np.argmax(output_tokens[0, -1, :])\n",
        "        sampled_token = reverse_target_word_index[sampled_token_index]\n",
        "  \n",
        "        if(sampled_token!='end'):\n",
        "            decoded_sentence += ' '+sampled_token\n",
        " \n",
        "        if (sampled_token == 'end' or len(decoded_sentence.split()) >= (max_length_y-1)):\n",
        "                stop_condition = True\n",
        "\n",
        "        target_seq = np.zeros((1,1))\n",
        "        target_seq[0, 0] = sampled_token_index\n",
        "        e_h, e_c = h, c\n",
        "\n",
        "    return decoded_sentence"
      ],
      "execution_count": null,
      "outputs": []
    },
    {
      "cell_type": "code",
      "metadata": {
        "id": "cLyRVENRs2Ay"
      },
      "source": [
        "def seq2summary(input_seq):\n",
        "    newString=''\n",
        "    for i in input_seq:\n",
        "      if((i!=0 and i!=target_word_index['start']) and i!=target_word_index['end']):\n",
        "        newString=newString+reverse_target_word_index[i]+' '\n",
        "    return newString\n",
        "\n",
        "def seq2text(input_seq):\n",
        "    newString=''\n",
        "    for i in input_seq:\n",
        "      if(i!=0):\n",
        "        newString=newString+reverse_source_word_index[i]+' '\n",
        "    return newString"
      ],
      "execution_count": null,
      "outputs": []
    },
    {
      "cell_type": "code",
      "metadata": {
        "id": "bXrWSc9Es5Qr",
        "colab": {
          "base_uri": "https://localhost:8080/"
        },
        "outputId": "08e094bf-5b7a-4d2d-9042-f01c9390c8df"
      },
      "source": [
        "for i in range(10):\n",
        "  print(\"Review:\",seq2text(padded_xtest[i]))\n",
        "  print(\"Original summary:\",seq2summary(padded_ytest[i]))\n",
        "  print(\"Predicted summary:\",decode_sequence(padded_xtest[i]))\n",
        "  print(\"\\n\")"
      ],
      "execution_count": null,
      "outputs": [
        {
          "output_type": "stream",
          "text": [
            "Review: spanish government introduce legislation criminalise sex without consent legislation consent would explicit states yes means yes anything else including silence means no move follows rape case verdict judges interpreted woman silence consent dropped rape charges accused \n",
            "Original summary: spain introduce law criminalise sex without consent \n",
            "Predicted summary:  germany bans sex public porn\n",
            "\n",
            "\n",
            "Review: 10th anniversary 26 11 mumbai terror attacks monday us president donald trump said the us stands people india quest justicewe never let terrorists win earlier us announced reward 5 million information leading arrest conviction individual involved attacks \n",
            "Original summary: us stands people india trump 10th anniversary 26 11 \n",
            "Predicted summary:  india us nation nation nation trump aide\n",
            "\n",
            "\n",
            "Review: yuvraj singh took social media share picture sachin tendulkar former india pacer ajit agarkar pre new year party picture sachin seen wearing wig glittering silver hat thanks sachintendulkar lovely night great fun monster agarkar yuvraj captioned picture \n",
            "Original summary: yuvraj shares pre new year party pic sachin agarkar \n",
            "Predicted summary:  sachin posts video yuvraj singh reveals picture\n",
            "\n",
            "\n",
            "Review: home affairs ministry wednesday said prime minister narendra modi expressed strong disapproval incidents toppling statues reported certain parts country adding ministry asked states take necessary measures prevent incidents said persons indulging acts must booked relevant provisions law \n",
            "Original summary: pm expressed disapproval statue toppling incidents mha \n",
            "Predicted summary:  fear destroyed northeast incident muslims pm modi\n",
            "\n",
            "\n",
            "Review: congress leader abhishek singhvi friday said congress leader sonia gandhi daughter priyanka gandhi vadra plays important role within party dismissing speculation priyanka contesting 2019 elections added priyanka role visible everyone comes congress leader salman khurshid reportedly said priyanka play a big role ahead 2019 elections \n",
            "Original summary: priyanka gandhi plays important role within party congress \n",
            "Predicted summary:  priyanka sonia gandhi sonia gandhi sonia gandhi\n",
            "\n",
            "\n",
            "Review: us based startup safkan developed headphone like wearable device claims remove excess earwax 35 seconds automated device called otoset uses suction clean ears comes disposable nozzle tips startup claims device designed reduce complications hearing loss membrane perforation \n",
            "Original summary: headphone like device clean ear wax 35 secs made \n",
            "Predicted summary:  startup makes device user 700 smart wearable device\n",
            "\n",
            "\n",
            "Review: sweden released feminist foreign policy manual government claimed launched 2014 in response discrimination systematic subordination faced women policy aims fight sexual violence women enhance political participation among others claims gender equality essential achieve peace security sustainable development \n",
            "Original summary: sweden releases feminist foreign policy manual \n",
            "Predicted summary:  japan launches first full physical sexual harassment\n",
            "\n",
            "\n",
            "Review: infosys reportedly made 100 crore counterclaim former cfo rajiv bansal breach trust non fulfilment obligations bansal moved court infosys withholding 1738 crore severance package infosys paid bansal 5 crore suspended remaining amount founder narayana murthy objected package claiming hush money \n",
            "Original summary: infosys files 100 crore claim ex cfo bansal report \n",
            "Predicted summary:  infosys pay 1217 cr cfo bansal kochhar ex cfo\n",
            "\n",
            "\n",
            "Review: india women team wicketkeeper sushma verma offered post deputy superintendent police himachal pradesh government cm virbhadra singh made announcement tuesday saying state proud achievement international cricket arena sushma hails shimla 15 dismissals keeper women world cup \n",
            "Original summary: india women keeper sushma verma offered dsp post hp govt \n",
            "Predicted summary:  india head coach mp cm declines\n",
            "\n",
            "\n",
            "Review: 17 lakh french nationals signed online petition president emmanuel macron plans give wife brigitte macron official first lady role move would give office staff allowance public purse with status first lady use role sees fit petition read \n",
            "Original summary: petition opposes official first lady role macron wife \n",
            "Predicted summary:  french prez offers royal citizenship lakh reward\n",
            "\n",
            "\n"
          ],
          "name": "stdout"
        }
      ]
    },
    {
      "cell_type": "markdown",
      "metadata": {
        "id": "v3Sfc9a422Rg"
      },
      "source": [
        "### Evaluation"
      ]
    },
    {
      "cell_type": "markdown",
      "metadata": {
        "id": "km13viOn2P4t"
      },
      "source": [
        ""
      ]
    },
    {
      "cell_type": "code",
      "metadata": {
        "id": "Z516n1wQSgn1",
        "colab": {
          "base_uri": "https://localhost:8080/"
        },
        "outputId": "83eac699-47fc-4854-a02e-b39ed8af9f50"
      },
      "source": [
        "import tensorflow_hub as hub\n",
        "from scipy import spatial\n",
        "module_url = \"https://tfhub.dev/google/universal-sentence-encoder/4\" \n",
        "sentence_encoder = hub.load(module_url)\n",
        "print (\"module %s loaded\" % module_url)"
      ],
      "execution_count": null,
      "outputs": [
        {
          "output_type": "stream",
          "text": [
            "module https://tfhub.dev/google/universal-sentence-encoder/4 loaded\n"
          ],
          "name": "stdout"
        }
      ]
    },
    {
      "cell_type": "code",
      "metadata": {
        "id": "phm5tVv6yCZ9"
      },
      "source": [
        "def cosine_similarity(padded_xval, padded_yval):\n",
        "  scores = []\n",
        "  for i in range(len(padded_xval)):\n",
        "    \n",
        "    str1 = seq2summary(padded_yval[i])\n",
        "    str2 = decode_sequence(padded_xval[i])\n",
        "    embeddings = sentence_encoder([str1, str2]).numpy()\n",
        "    result = 1 - spatial.distance.cosine(embeddings[0], embeddings[1])\n",
        "    scores.append(result)\n",
        "  return scores"
      ],
      "execution_count": null,
      "outputs": []
    },
    {
      "cell_type": "code",
      "metadata": {
        "colab": {
          "base_uri": "https://localhost:8080/"
        },
        "id": "SoB-bWnvcNC9",
        "outputId": "a83b5641-48b0-4ac3-916c-7a0b6d62f644"
      },
      "source": [
        "%%time\n",
        "scores = cosine_similarity(padded_xtest[:500],padded_ytest[:500] )"
      ],
      "execution_count": null,
      "outputs": [
        {
          "output_type": "stream",
          "text": [
            "CPU times: user 3min 21s, sys: 6.54 s, total: 3min 27s\n",
            "Wall time: 3min 26s\n"
          ],
          "name": "stdout"
        }
      ]
    },
    {
      "cell_type": "code",
      "metadata": {
        "colab": {
          "base_uri": "https://localhost:8080/",
          "height": 164
        },
        "id": "mFysiYvWGre-",
        "outputId": "e9e8632a-0355-4ed5-e2f2-4be98f57ffec"
      },
      "source": [
        "np.mean(np.sort(scores)[-50:])"
      ],
      "execution_count": null,
      "outputs": [
        {
          "output_type": "error",
          "ename": "NameError",
          "evalue": "ignored",
          "traceback": [
            "\u001b[0;31m---------------------------------------------------------------------------\u001b[0m",
            "\u001b[0;31mNameError\u001b[0m                                 Traceback (most recent call last)",
            "\u001b[0;32m<ipython-input-1-63b971c1076e>\u001b[0m in \u001b[0;36m<module>\u001b[0;34m()\u001b[0m\n\u001b[0;32m----> 1\u001b[0;31m \u001b[0mnp\u001b[0m\u001b[0;34m.\u001b[0m\u001b[0mmean\u001b[0m\u001b[0;34m(\u001b[0m\u001b[0mnp\u001b[0m\u001b[0;34m.\u001b[0m\u001b[0msort\u001b[0m\u001b[0;34m(\u001b[0m\u001b[0mscores\u001b[0m\u001b[0;34m)\u001b[0m\u001b[0;34m[\u001b[0m\u001b[0;34m-\u001b[0m\u001b[0;36m50\u001b[0m\u001b[0;34m:\u001b[0m\u001b[0;34m]\u001b[0m\u001b[0;34m)\u001b[0m\u001b[0;34m\u001b[0m\u001b[0;34m\u001b[0m\u001b[0m\n\u001b[0m",
            "\u001b[0;31mNameError\u001b[0m: name 'np' is not defined"
          ]
        }
      ]
    },
    {
      "cell_type": "code",
      "metadata": {
        "id": "uEmUYsoBaqgx"
      },
      "source": [
        "np.mean(scores)"
      ],
      "execution_count": null,
      "outputs": []
    },
    {
      "cell_type": "code",
      "metadata": {
        "id": "0CxZJ4LB2ZEW"
      },
      "source": [
        ""
      ],
      "execution_count": null,
      "outputs": []
    },
    {
      "cell_type": "code",
      "metadata": {
        "id": "z2xI96Ts2ZXg"
      },
      "source": [
        ""
      ],
      "execution_count": null,
      "outputs": []
    },
    {
      "cell_type": "code",
      "metadata": {
        "id": "FmyoWZmMI4OZ"
      },
      "source": [
        "import math\n",
        "import collections\n",
        "def bleu(pred_seq, label_seq, k): \n",
        "    \"\"\"Compute the BLEU.\"\"\"\n",
        "    pred_tokens, label_tokens = pred_seq.split(' '), label_seq.split(' ')\n",
        "    len_pred, len_label = len(pred_tokens), len(label_tokens)\n",
        "    score = math.exp(min(0, 1 - len_label / len_pred))\n",
        "    for n in range(1, k + 1):\n",
        "        num_matches, label_subs = 0, collections.defaultdict(int)\n",
        "        for i in range(len_label - n + 1):\n",
        "            label_subs[''.join(label_tokens[i:i + n])] += 1\n",
        "        for i in range(len_pred - n + 1):\n",
        "            if label_subs[''.join(pred_tokens[i:i + n])] > 0:\n",
        "                num_matches += 1\n",
        "                label_subs[''.join(pred_tokens[i:i + n])] -= 1\n",
        "        score *= math.pow(num_matches / (len_pred - n + 1), math.pow(0.5, n))\n",
        "    return score"
      ],
      "execution_count": null,
      "outputs": []
    },
    {
      "cell_type": "code",
      "metadata": {
        "id": "OvsUaalTYDac"
      },
      "source": [
        "for i in range(0,5):\n",
        "  scoresbleu = []\n",
        "  s = bleu(seq2summary(padded_yval[i]),decode_sequence(padded_xval[i].reshape(1,max_length_x)),2)\n",
        "  scoresbleu.append(s)\n",
        "  print(s)"
      ],
      "execution_count": null,
      "outputs": []
    },
    {
      "cell_type": "code",
      "metadata": {
        "id": "BZv8OpxGYDeu"
      },
      "source": [
        "scoresbleu"
      ],
      "execution_count": null,
      "outputs": []
    },
    {
      "cell_type": "code",
      "metadata": {
        "id": "OK4q-baGHHhl"
      },
      "source": [
        "p"
      ],
      "execution_count": null,
      "outputs": []
    },
    {
      "cell_type": "code",
      "metadata": {
        "id": "ICg8N-6xHHn8"
      },
      "source": [
        ""
      ],
      "execution_count": null,
      "outputs": []
    },
    {
      "cell_type": "code",
      "metadata": {
        "id": "5BLStTH4HHtr"
      },
      "source": [
        ""
      ],
      "execution_count": null,
      "outputs": []
    },
    {
      "cell_type": "code",
      "metadata": {
        "id": "sT37DD2qYDjd"
      },
      "source": [
        "from sklearn.feature_extraction.text import TfidfVectorizer\n",
        "tfidf = TfidfVectorizer()\n",
        "tfidf.fit([\"hi\", \"hello\"])"
      ],
      "execution_count": null,
      "outputs": []
    },
    {
      "cell_type": "code",
      "metadata": {
        "id": "TDm8ZqCJYDoZ"
      },
      "source": [
        "X = tfidf.transform([\"hi\", \"hello\"])"
      ],
      "execution_count": null,
      "outputs": []
    },
    {
      "cell_type": "code",
      "metadata": {
        "id": "uJ4JB7nTYDsa"
      },
      "source": [
        "X"
      ],
      "execution_count": null,
      "outputs": []
    },
    {
      "cell_type": "code",
      "metadata": {
        "id": "3riUPQeNYDwN"
      },
      "source": [
        "print([X[1, tfidf.vocabulary_['hi']]])\n"
      ],
      "execution_count": null,
      "outputs": []
    },
    {
      "cell_type": "code",
      "metadata": {
        "id": "Yp319vKPYD0Q"
      },
      "source": [
        ""
      ],
      "execution_count": null,
      "outputs": []
    },
    {
      "cell_type": "code",
      "metadata": {
        "id": "F0mNzJ2-YD6a"
      },
      "source": [
        ""
      ],
      "execution_count": null,
      "outputs": []
    },
    {
      "cell_type": "code",
      "metadata": {
        "id": "_z0JOU8JYD-n"
      },
      "source": [
        ""
      ],
      "execution_count": null,
      "outputs": []
    },
    {
      "cell_type": "code",
      "metadata": {
        "id": "PJSIc7dVYEC4"
      },
      "source": [
        ""
      ],
      "execution_count": null,
      "outputs": []
    },
    {
      "cell_type": "code",
      "metadata": {
        "id": "1KiQtQiczjdO"
      },
      "source": [
        ""
      ],
      "execution_count": null,
      "outputs": []
    },
    {
      "cell_type": "code",
      "metadata": {
        "id": "KXa-QadC7CxH"
      },
      "source": [
        "sentence_embeddings = model([\"keep asking google assistant marry you google india users\",\"keep asking google assistant in modi google ai google india\"])\n",
        "embed=sentence_embeddings.numpy()"
      ],
      "execution_count": null,
      "outputs": []
    },
    {
      "cell_type": "code",
      "metadata": {
        "id": "9XaleL4O7C4K"
      },
      "source": [
        "embed"
      ],
      "execution_count": null,
      "outputs": []
    },
    {
      "cell_type": "code",
      "metadata": {
        "id": "Y8eA12sX7DDW"
      },
      "source": [
        "from scipy import spatial\n",
        "\n",
        "dataSetI = embed[0]\n",
        "dataSetII = embed[1]\n",
        "result = 1 - spatial.distance.cosine(dataSetI, dataSetII)\n",
        "result"
      ],
      "execution_count": null,
      "outputs": []
    },
    {
      "cell_type": "code",
      "metadata": {
        "id": "GBgZmCuT7DXK"
      },
      "source": [
        "import sklearn\n",
        "def cos(X,Y):\n",
        "  c = 0\n",
        "  for i in range(len(X)):\n",
        "      c += X[i]*Y[i]\n",
        "  cosine = c/ float((sum(X)*sum(Y))**0.5)\n",
        "  print(\"similarity: \", c)"
      ],
      "execution_count": null,
      "outputs": []
    },
    {
      "cell_type": "code",
      "metadata": {
        "id": "iL-pYFzq0n6d"
      },
      "source": [
        "cos(embed[0],embed[1])"
      ],
      "execution_count": null,
      "outputs": []
    },
    {
      "cell_type": "markdown",
      "metadata": {
        "id": "AmM0BxDgYOoc"
      },
      "source": [
        "**Torch Req**"
      ]
    },
    {
      "cell_type": "code",
      "metadata": {
        "id": "b-pmlj-bYOoc"
      },
      "source": [
        "import torch\n",
        "import torch.nn as nn\n",
        "from torch import optim\n",
        "import torch.nn.functional as F\n",
        "\n",
        "device = torch.device(\"cuda\" if torch.cuda.is_available() else \"cpu\")"
      ],
      "execution_count": null,
      "outputs": []
    },
    {
      "cell_type": "code",
      "metadata": {
        "id": "4h5klvqcCcG7"
      },
      "source": [
        "device"
      ],
      "execution_count": null,
      "outputs": []
    },
    {
      "cell_type": "code",
      "metadata": {
        "id": "eU87EiEqYOoc"
      },
      "source": [
        "SOS_token = 0\n",
        "EOS_token = 1\n",
        "\n",
        "class Lang:\n",
        "    def __init__(self, name):\n",
        "        self.name = name\n",
        "        self.word2index = {}\n",
        "        self.word2count = {}\n",
        "        self.index2word = {0: \"SOS\", 1: \"EOS\"}\n",
        "        self.n_words = 2\n",
        "\n",
        "    def addSentence(self, sentence):\n",
        "        for word in sentence.split(' '):\n",
        "            self.addWord(word)\n",
        "\n",
        "    def addWord(self, word):\n",
        "        if word not in self.word2index:\n",
        "            self.word2index[word] = self.n_words\n",
        "            self.word2count[word] = 1\n",
        "            self.index2word[self.n_words] = word\n",
        "            self.n_words += 1\n",
        "        else:\n",
        "            self.word2count[word] += 1"
      ],
      "execution_count": null,
      "outputs": []
    },
    {
      "cell_type": "code",
      "metadata": {
        "id": "M9nNvklIYOod"
      },
      "source": [
        "def readLangs(text, summary):\n",
        "    \n",
        "    pairs = [[text[i],summary[i]] for i in range(len(text))]\n",
        "\n",
        "    input_lang = Lang(text)\n",
        "    output_lang = Lang(summary)\n",
        "\n",
        "    return input_lang, output_lang, pairs"
      ],
      "execution_count": null,
      "outputs": []
    },
    {
      "cell_type": "code",
      "metadata": {
        "id": "6-PfCX-qYOod"
      },
      "source": [
        "def prepareData(lang1, lang2):\n",
        "    input_lang, output_lang, pairs = readLangs(lang1, lang2)\n",
        "\n",
        "    print(f'Read {pairs} sentence pairs', end='\\n\\n')\n",
        "\n",
        "    for pair in pairs:\n",
        "        input_lang.addSentence(pair[0])\n",
        "        output_lang.addSentence(pair[1])\n",
        "\n",
        "    print(input_lang.name, input_lang.n_words, end='\\n\\n')\n",
        "    print(output_lang.name, output_lang.n_words, end='\\n\\n')\n",
        "    return input_lang, output_lang, pairs"
      ],
      "execution_count": null,
      "outputs": []
    },
    {
      "cell_type": "code",
      "metadata": {
        "id": "ap5M9WYtYOod"
      },
      "source": [
        "input_lang, output_lang, pairs = prepareData(x, y)\n"
      ],
      "execution_count": null,
      "outputs": []
    },
    {
      "cell_type": "code",
      "metadata": {
        "id": "bY4PxrS24OOK"
      },
      "source": [
        "pairs[0]"
      ],
      "execution_count": null,
      "outputs": []
    },
    {
      "cell_type": "code",
      "metadata": {
        "id": "lySRaaNwM8r3"
      },
      "source": [
        ""
      ],
      "execution_count": null,
      "outputs": []
    },
    {
      "cell_type": "markdown",
      "metadata": {
        "id": "Ays-jqBMDhhk"
      },
      "source": [
        "## Model"
      ]
    },
    {
      "cell_type": "code",
      "metadata": {
        "id": "MTST4a8CYOoe"
      },
      "source": [
        "MAX_LENGTH = 70"
      ],
      "execution_count": null,
      "outputs": []
    },
    {
      "cell_type": "code",
      "metadata": {
        "id": "HBaEileeYOoe"
      },
      "source": [
        "class EncoderRNN(nn.Module):\n",
        "    def __init__(self, input_size, hidden_size):\n",
        "        super(EncoderRNN, self).__init__()\n",
        "        self.hidden_size = hidden_size\n",
        "\n",
        "        self.embedding = nn.Embedding(input_size, hidden_size)\n",
        "        self.gru = nn.GRU(hidden_size, hidden_size)\n",
        "\n",
        "    def forward(self, input, hidden):\n",
        "        embedded = self.embedding(input).view(1, 1, -1)\n",
        "        output = embedded\n",
        "        output, hidden = self.gru(output, hidden)\n",
        "        return output, hidden\n",
        "\n",
        "    def initHidden(self):\n",
        "        return torch.zeros(1, 1, self.hidden_size, device=device)"
      ],
      "execution_count": null,
      "outputs": []
    },
    {
      "cell_type": "code",
      "metadata": {
        "id": "kAfjBTvLYOoe"
      },
      "source": [
        "class DecoderRNN(nn.Module):\n",
        "    def __init__(self, hidden_size, output_size):\n",
        "        super(DecoderRNN, self).__init__()\n",
        "        self.hidden_size = hidden_size\n",
        "\n",
        "        self.embedding = nn.Embedding(output_size, hidden_size)\n",
        "        self.gru = nn.GRU(hidden_size, hidden_size)\n",
        "        self.out = nn.Linear(hidden_size, output_size)\n",
        "        self.softmax = nn.LogSoftmax(dim=1)\n",
        "\n",
        "    def forward(self, input, hidden):\n",
        "        output = self.embedding(input).view(1, 1, -1)\n",
        "        output = F.relu(output)\n",
        "        output, hidden = self.gru(output, hidden)\n",
        "        output = self.softmax(self.out(output[0]))\n",
        "        return output, hidden\n",
        "\n",
        "    def initHidden(self):\n",
        "        return torch.zeros(1, 1, self.hidden_size, device=device)"
      ],
      "execution_count": null,
      "outputs": []
    },
    {
      "cell_type": "code",
      "metadata": {
        "id": "eQheDzSXYOof"
      },
      "source": [
        "class AttnDecoderRNN(nn.Module):\n",
        "    def __init__(self, hidden_size, output_size, dropout_p=0.1, max_length=MAX_LENGTH):\n",
        "        super(AttnDecoderRNN, self).__init__()\n",
        "        self.hidden_size = hidden_size\n",
        "        self.output_size = output_size\n",
        "        self.dropout_p = dropout_p\n",
        "        self.max_length = max_length\n",
        "\n",
        "        self.embedding = nn.Embedding(self.output_size, self.hidden_size)\n",
        "        self.attn = nn.Linear(self.hidden_size * 2, self.max_length)\n",
        "        self.attn_combine = nn.Linear(self.hidden_size * 2, self.hidden_size)\n",
        "        self.dropout = nn.Dropout(self.dropout_p)\n",
        "        self.gru = nn.GRU(self.hidden_size, self.hidden_size)\n",
        "        self.out = nn.Linear(self.hidden_size, self.output_size)\n",
        "\n",
        "    def forward(self, input, hidden, encoder_outputs):\n",
        "        embedded = self.embedding(input).view(1, 1, -1)\n",
        "        embedded = self.dropout(embedded)\n",
        "\n",
        "        attn_weights = F.softmax( self.attn(torch.cat((embedded[0], hidden[0]), 1)), dim=1)\n",
        "        attn_applied = torch.bmm(attn_weights.unsqueeze(0), encoder_outputs.unsqueeze(0))\n",
        "\n",
        "        output = torch.cat((embedded[0], attn_applied[0]), 1)\n",
        "        output = self.attn_combine(output).unsqueeze(0)\n",
        "\n",
        "        output = F.relu(output)\n",
        "        output, hidden = self.gru(output, hidden)\n",
        "\n",
        "        output = F.log_softmax(self.out(output[0]), dim=1)\n",
        "        return output, hidden, attn_weights\n",
        "\n",
        "    def initHidden(self):\n",
        "        return torch.zeros(1, 1, self.hidden_size, device=device)"
      ],
      "execution_count": null,
      "outputs": []
    },
    {
      "cell_type": "code",
      "metadata": {
        "id": "-pnwgITqYOof"
      },
      "source": [
        "def indexesFromSentence(lang, sentence):\n",
        "    return [lang.word2index[word] for word in sentence.split(' ')]\n",
        "\n",
        "\n",
        "def tensorFromSentence(lang, sentence):\n",
        "    indexes = indexesFromSentence(lang, sentence)\n",
        "    indexes.append(EOS_token)\n",
        "    return torch.tensor(indexes, dtype=torch.long, device=device).view(-1, 1)\n",
        "\n",
        "\n",
        "def tensorsFromPair(pair):\n",
        "    input_tensor = tensorFromSentence(input_lang, pair[0])\n",
        "    target_tensor = tensorFromSentence(output_lang, pair[1])\n",
        "    return (input_tensor, target_tensor)"
      ],
      "execution_count": null,
      "outputs": []
    },
    {
      "cell_type": "code",
      "metadata": {
        "id": "FIDe9XZ2YOof"
      },
      "source": [
        "teacher_forcing_ratio = 0.5\n",
        "def train(input_tensor, target_tensor, encoder, decoder, encoder_optimizer, decoder_optimizer, criterion, max_length=MAX_LENGTH):\n",
        "    encoder_hidden = encoder.initHidden()\n",
        "\n",
        "    encoder_optimizer.zero_grad()\n",
        "    decoder_optimizer.zero_grad()\n",
        "\n",
        "    input_length = input_tensor.size(0)\n",
        "    target_length = target_tensor.size(0)\n",
        "\n",
        "    encoder_outputs = torch.zeros(max_length, encoder.hidden_size, device=device)\n",
        "\n",
        "    loss = 0\n",
        "\n",
        "    for ei in range(input_length):\n",
        "        encoder_output, encoder_hidden = encoder(\n",
        "            input_tensor[ei], encoder_hidden)\n",
        "        encoder_outputs[ei] = encoder_output[0, 0]\n",
        "\n",
        "    decoder_input = torch.tensor([[SOS_token]], device=device)\n",
        "\n",
        "    decoder_hidden = encoder_hidden\n",
        "\n",
        "    use_teacher_forcing = True if random.random() < teacher_forcing_ratio else False\n",
        "\n",
        "    if use_teacher_forcing:\n",
        "        for di in range(target_length):\n",
        "            decoder_output, decoder_hidden, decoder_attention = decoder(\n",
        "                decoder_input, decoder_hidden, encoder_outputs)\n",
        "            loss += criterion(decoder_output, target_tensor[di])\n",
        "            decoder_input = target_tensor[di]\n",
        "\n",
        "    else:\n",
        "        for di in range(target_length):\n",
        "            decoder_output, decoder_hidden, decoder_attention = decoder(\n",
        "                decoder_input, decoder_hidden, encoder_outputs)\n",
        "            topv, topi = decoder_output.topk(1)\n",
        "            decoder_input = topi.squeeze().detach()\n",
        "\n",
        "            loss += criterion(decoder_output, target_tensor[di])\n",
        "            if decoder_input.item() == EOS_token:\n",
        "                break\n",
        "\n",
        "    loss.backward()\n",
        "\n",
        "    encoder_optimizer.step()\n",
        "    decoder_optimizer.step()\n",
        "\n",
        "    return loss.item() / target_length"
      ],
      "execution_count": null,
      "outputs": []
    },
    {
      "cell_type": "code",
      "metadata": {
        "id": "D2gXkPYgYOog"
      },
      "source": [
        "import time\n",
        "import math\n",
        "\n",
        "def asMinutes(s):\n",
        "    m = math.floor(s / 60)\n",
        "    s -= m * 60\n",
        "    return f'{m}m {s}s'\n",
        "\n",
        "def timeSince(since, percent):\n",
        "    now = time.time()\n",
        "    s = now - since\n",
        "    es = s / (percent)\n",
        "    rs = es - s\n",
        "    return f'Time: {asMinutes(s)} (ETA: {asMinutes(rs)})'"
      ],
      "execution_count": null,
      "outputs": []
    },
    {
      "cell_type": "code",
      "metadata": {
        "id": "E-Uxp6YLYOog"
      },
      "source": [
        "import matplotlib.pyplot as plt\n",
        "import matplotlib.ticker as ticker\n",
        "import numpy as np\n",
        "\n",
        "\n",
        "def showPlot(points):\n",
        "    plt.figure()\n",
        "    fig, ax = plt.subplots()\n",
        "    loc = ticker.MultipleLocator(base=0.2)\n",
        "    ax.yaxis.set_major_locator(loc)\n",
        "    plt.plot(points)"
      ],
      "execution_count": null,
      "outputs": []
    },
    {
      "cell_type": "code",
      "metadata": {
        "id": "wcWi8Dl0YOog"
      },
      "source": [
        "def trainIters(encoder, decoder, n_iters, print_every=100, plot_every=100, learning_rate=0.01):\n",
        "    print(\"Training....\")\n",
        "    start = time.time()\n",
        "    plot_losses = []\n",
        "    print_loss_total = 0\n",
        "    plot_loss_total = 0\n",
        "\n",
        "    encoder_optimizer = optim.SGD(encoder.parameters(), lr=learning_rate)\n",
        "    decoder_optimizer = optim.SGD(decoder.parameters(), lr=learning_rate)\n",
        "    # encoder_optimizer = optim.AdamW(encoder.parameters())\n",
        "    # decoder_optimizer = optim.AdamW(decoder.parameters())\n",
        "    training_pairs = [tensorsFromPair(random.choice(pairs))\n",
        "                      for i in range(n_iters)]\n",
        "    \n",
        "    criterion = nn.NLLLoss()\n",
        "\n",
        "    for iter in range(1, n_iters + 1):\n",
        "        if iter% 100 == 0:\n",
        "            print(iter,\"/\",n_iters + 1)\n",
        "        training_pair = training_pairs[iter - 1]\n",
        "        input_tensor = training_pair[0]\n",
        "        target_tensor = training_pair[1]\n",
        "\n",
        "        loss = train(input_tensor, target_tensor, encoder,\n",
        "                     decoder, encoder_optimizer, decoder_optimizer, criterion)\n",
        "        print_loss_total += loss\n",
        "        plot_loss_total += loss\n",
        "\n",
        "        if iter % print_every == 0:\n",
        "            print_loss_avg = print_loss_total / print_every\n",
        "            print_loss_total = 0\n",
        "            #print(f'{(timeSince(start, iter / n_iters)} (iter: {iter} percent: {iter / n_iters * 100}%%) %.4f', % print_loss_avg))\n",
        "\n",
        "        if iter % plot_every == 0:\n",
        "            plot_loss_avg = plot_loss_total / plot_every\n",
        "            plot_losses.append(plot_loss_avg)\n",
        "            plot_loss_total = 0\n",
        "\n",
        "    showPlot(plot_losses)"
      ],
      "execution_count": null,
      "outputs": []
    },
    {
      "cell_type": "code",
      "metadata": {
        "id": "GwNFydmiYOog"
      },
      "source": [
        "def evaluate(encoder, decoder, sentence, max_length=MAX_LENGTH):\n",
        "    with torch.no_grad():\n",
        "        input_tensor = tensorFromSentence(input_lang, sentence)\n",
        "        input_length = input_tensor.size()[0]\n",
        "        encoder_hidden = encoder.initHidden()\n",
        "\n",
        "        encoder_outputs = torch.zeros(max_length, encoder.hidden_size, device=device)\n",
        "\n",
        "        for ei in range(input_length):\n",
        "            encoder_output, encoder_hidden = encoder(input_tensor[ei],\n",
        "                                                     encoder_hidden)\n",
        "            encoder_outputs[ei] += encoder_output[0, 0]\n",
        "\n",
        "        decoder_input = torch.tensor([[SOS_token]], device=device)\n",
        "\n",
        "        decoder_hidden = encoder_hidden\n",
        "\n",
        "        decoded_words = []\n",
        "        decoder_attentions = torch.zeros(max_length, max_length)\n",
        "\n",
        "        for di in range(max_length):\n",
        "            decoder_output, decoder_hidden, decoder_attention = decoder(\n",
        "                decoder_input, decoder_hidden, encoder_outputs)\n",
        "            decoder_attentions[di] = decoder_attention.data\n",
        "            topv, topi = decoder_output.data.topk(1)\n",
        "            if topi.item() == EOS_token:\n",
        "                decoded_words.append('<EOS>')\n",
        "                break\n",
        "            else:\n",
        "                decoded_words.append(output_lang.index2word[topi.item()])\n",
        "\n",
        "            decoder_input = topi.squeeze().detach()\n",
        "\n",
        "        return decoded_words, decoder_attentions[:di + 1]"
      ],
      "execution_count": null,
      "outputs": []
    },
    {
      "cell_type": "code",
      "metadata": {
        "id": "wWrJlKfTYOoh"
      },
      "source": [
        "def evaluateRandomly(encoder, decoder, n=10):\n",
        "    for i in range(n):\n",
        "        pair = random.choice(pairs)\n",
        "        print('Text:       ', pair[0])\n",
        "        print('Summary:    ', pair[1])\n",
        "        output_words, attentions = evaluate(encoder, decoder, pair[0])\n",
        "        output_sentence = ' '.join(output_words)\n",
        "        print('Prediction: ', output_sentence)\n",
        "        print('')"
      ],
      "execution_count": null,
      "outputs": []
    },
    {
      "cell_type": "code",
      "metadata": {
        "id": "h3Hs79qH4bbg"
      },
      "source": [
        "type(input_lang.n_words)"
      ],
      "execution_count": null,
      "outputs": []
    },
    {
      "cell_type": "code",
      "metadata": {
        "id": "DmmuQwHaYOoh"
      },
      "source": [
        "import random\n",
        "hidden_size = 200\n",
        "encoder1 = EncoderRNN(input_lang.n_words, hidden_size).to(device)\n",
        "attn_decoder1 = AttnDecoderRNN(hidden_size, output_lang.n_words, dropout_p=0.1).to(device)\n",
        "\n",
        "trainIters(encoder1, attn_decoder1, 500, print_every=10)"
      ],
      "execution_count": null,
      "outputs": []
    },
    {
      "cell_type": "code",
      "metadata": {
        "id": "SHFfbfqqYOoh"
      },
      "source": [
        "torch.save(encoder1.state_dict(), './enc.w')\n",
        "torch.save(attn_decoder1.state_dict(), './att.w')"
      ],
      "execution_count": null,
      "outputs": []
    },
    {
      "cell_type": "code",
      "metadata": {
        "id": "A5HUdsm1YOoh"
      },
      "source": [
        "evaluateRandomly(encoder1, attn_decoder1)"
      ],
      "execution_count": null,
      "outputs": []
    },
    {
      "cell_type": "code",
      "metadata": {
        "id": "FPWr_mL8IKRN"
      },
      "source": [
        ""
      ],
      "execution_count": null,
      "outputs": []
    }
  ]
}